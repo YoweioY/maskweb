{
  "nbformat": 4,
  "nbformat_minor": 0,
  "metadata": {
    "colab": {
      "provenance": [],
      "authorship_tag": "ABX9TyPwSPppdPXwuesQJTelnKPm",
      "include_colab_link": true
    },
    "kernelspec": {
      "name": "python3",
      "display_name": "Python 3"
    },
    "language_info": {
      "name": "python"
    }
  },
  "cells": [
    {
      "cell_type": "markdown",
      "metadata": {
        "id": "view-in-github",
        "colab_type": "text"
      },
      "source": [
        "<a href=\"https://colab.research.google.com/github/YoweioY/maskweb/blob/main/08_mask_sql.ipynb\" target=\"_parent\"><img src=\"https://colab.research.google.com/assets/colab-badge.svg\" alt=\"Open In Colab\"/></a>"
      ]
    },
    {
      "cell_type": "code",
      "execution_count": 16,
      "metadata": {
        "id": "TXbHZ0ceAKCR"
      },
      "outputs": [],
      "source": [
        "import sqlite3\n",
        "import datetime\n",
        "import requests\n",
        "import json"
      ]
    },
    {
      "cell_type": "code",
      "source": [
        "conn = sqlite3.connect('example.db')\n",
        "c = conn.cursor()\n",
        "\n",
        "# 新增且清空資料表\n",
        "c.execute('''CREATE TABLE IF NOT EXISTS pharmacies\n",
        "             (city text, counts text, createdAt datetime)''')\n",
        "c.execute('''DELETE FROM pharmacies''')\n",
        "conn.commit()\n",
        "\n",
        "# 新增資料\n",
        "url = \"https://raw.githubusercontent.com/kiang/pharmacies/master/json/points.json\"\n",
        "response = requests.get(url)\n",
        "d = response.text\n",
        "data = json.loads(d)\n",
        "\n",
        "med_count = {}\n",
        "for d in data['features']:\n",
        "    conunty = d['properties']['county']\n",
        "    if conunty not in med_count:\n",
        "      med_count[conunty] = 0\n",
        "    if conunty in med_count:\n",
        "      med_count[conunty] += 1\n",
        "\n",
        "for city, counts in med_count.items():\n",
        "  t = datetime.datetime.now()\n",
        "  c.execute(f\"INSERT INTO pharmacies VALUES ('{city}', {counts}, '{t}')\")\n",
        "  conn.commit()\n",
        "\n",
        "# 查詢資料\n",
        "c.execute(\"SELECT * FROM pharmacies\")\n",
        "print(c.fetchall())\n",
        "\n",
        "conn.commit()\n",
        "conn.close()\n"
      ],
      "metadata": {
        "colab": {
          "base_uri": "https://localhost:8080/"
        },
        "id": "crGrtueQAhlJ",
        "outputId": "4c8f6686-a231-47bf-c758-3a17d3226c09"
      },
      "execution_count": 17,
      "outputs": [
        {
          "output_type": "stream",
          "name": "stdout",
          "text": [
            "[('臺北市', '339', '2023-04-08 16:13:57.381312'), ('', '49', '2023-04-08 16:13:57.390478'), ('高雄市', '422', '2023-04-08 16:13:57.398211'), ('臺中市', '420', '2023-04-08 16:13:57.406673'), ('臺南市', '271', '2023-04-08 16:13:57.414739'), ('基隆市', '57', '2023-04-08 16:13:57.423611'), ('新竹市', '39', '2023-04-08 16:13:57.431943'), ('嘉義市', '67', '2023-04-08 16:13:57.440879'), ('新北市', '501', '2023-04-08 16:13:57.449330'), ('桃園市', '264', '2023-04-08 16:13:57.457120'), ('新竹縣', '46', '2023-04-08 16:13:57.465474'), ('宜蘭縣', '76', '2023-04-08 16:13:57.473633'), ('苗栗縣', '56', '2023-04-08 16:13:57.481821'), ('彰化縣', '179', '2023-04-08 16:13:57.489902'), ('南投縣', '67', '2023-04-08 16:13:57.497774'), ('雲林縣', '129', '2023-04-08 16:13:57.505621'), ('嘉義縣', '84', '2023-04-08 16:13:57.512934'), ('屏東縣', '140', '2023-04-08 16:13:57.522123'), ('澎湖縣', '11', '2023-04-08 16:13:57.529933'), ('花蓮縣', '46', '2023-04-08 16:13:57.537295'), ('臺東縣', '23', '2023-04-08 16:13:57.544753'), ('金門縣', '6', '2023-04-08 16:13:57.552074'), ('連江縣', '1', '2023-04-08 16:13:57.559302')]\n"
          ]
        }
      ]
    },
    {
      "cell_type": "code",
      "source": [
        "conn = sqlite3.connect('example.db')\n",
        "c = conn.cursor()\n",
        "# 新增且清空資料表\n",
        "c.execute('''CREATE TABLE IF NOT EXISTS masks\n",
        "             (city text, counts text, createdAt datetime)''')\n",
        "c.execute('''DELETE FROM masks''')\n",
        "conn.commit()\n",
        "\n",
        "mask_count = {}\n",
        "\n",
        "# 填入欄位名稱\n",
        "for d in data['features']:\n",
        "    conunty = d['properties']['county']\n",
        "    if conunty not in mask_count:\n",
        "      mask_count[conunty] = 0\n",
        "    if conunty in mask_count:\n",
        "      mask_count[conunty] += d['properties']['mask_adult']\n",
        "\n",
        "for city, counts in mask_count.items():\n",
        "  t = datetime.datetime.now()\n",
        "  c.execute(f\"INSERT INTO masks VALUES ('{city}', {counts}, '{t}')\")\n",
        "  conn.commit()\n",
        "\n",
        "# 查詢資料\n",
        "c.execute(\"SELECT * FROM masks\")\n",
        "print(c.fetchall())\n",
        "\n",
        "conn.commit()\n",
        "conn.close()"
      ],
      "metadata": {
        "colab": {
          "base_uri": "https://localhost:8080/"
        },
        "id": "j9emeckoE3Es",
        "outputId": "ad134ea2-828f-476a-e0bb-5dfedb50aae9"
      },
      "execution_count": 18,
      "outputs": [
        {
          "output_type": "stream",
          "name": "stdout",
          "text": [
            "[('臺北市', '322490', '2023-04-08 16:14:51.758922'), ('', '69210', '2023-04-08 16:14:51.768407'), ('高雄市', '424170', '2023-04-08 16:14:51.775937'), ('臺中市', '536710', '2023-04-08 16:14:51.783543'), ('臺南市', '393900', '2023-04-08 16:14:51.791271'), ('基隆市', '80100', '2023-04-08 16:14:51.799388'), ('新竹市', '45630', '2023-04-08 16:14:51.806748'), ('嘉義市', '107840', '2023-04-08 16:14:51.814813'), ('新北市', '670270', '2023-04-08 16:14:51.821781'), ('桃園市', '331940', '2023-04-08 16:14:51.830591'), ('新竹縣', '51350', '2023-04-08 16:14:51.838903'), ('宜蘭縣', '106900', '2023-04-08 16:14:51.847145'), ('苗栗縣', '131080', '2023-04-08 16:14:51.854522'), ('彰化縣', '219400', '2023-04-08 16:14:51.863365'), ('南投縣', '91240', '2023-04-08 16:14:51.872333'), ('雲林縣', '196990', '2023-04-08 16:14:51.880035'), ('嘉義縣', '113180', '2023-04-08 16:14:51.888090'), ('屏東縣', '184250', '2023-04-08 16:14:51.896024'), ('澎湖縣', '12600', '2023-04-08 16:14:51.904510'), ('花蓮縣', '57330', '2023-04-08 16:14:51.913144'), ('臺東縣', '28510', '2023-04-08 16:14:51.920788'), ('金門縣', '15510', '2023-04-08 16:14:51.928993'), ('連江縣', '7930', '2023-04-08 16:14:51.940322')]\n"
          ]
        }
      ]
    }
  ]
}