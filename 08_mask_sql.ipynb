{
  "nbformat": 4,
  "nbformat_minor": 0,
  "metadata": {
    "colab": {
      "provenance": [],
      "authorship_tag": "ABX9TyNkxyISrvdrTSByLrTupnkc",
      "include_colab_link": true
    },
    "kernelspec": {
      "name": "python3",
      "display_name": "Python 3"
    },
    "language_info": {
      "name": "python"
    }
  },
  "cells": [
    {
      "cell_type": "markdown",
      "metadata": {
        "id": "view-in-github",
        "colab_type": "text"
      },
      "source": [
        "<a href=\"https://colab.research.google.com/github/YoweioY/maskweb/blob/main/08_mask_sql.ipynb\" target=\"_parent\"><img src=\"https://colab.research.google.com/assets/colab-badge.svg\" alt=\"Open In Colab\"/></a>"
      ]
    },
    {
      "cell_type": "code",
      "execution_count": 1,
      "metadata": {
        "id": "TXbHZ0ceAKCR"
      },
      "outputs": [],
      "source": [
        "import sqlite3\n",
        "import datetime\n",
        "import requests\n",
        "import json"
      ]
    },
    {
      "cell_type": "code",
      "source": [
        "conn = sqlite3.connect('example.db')\n",
        "c = conn.cursor()\n",
        "\n",
        "# 新增且清空資料表\n",
        "c.execute('''CREATE TABLE IF NOT EXISTS pharmacies\n",
        "             (city text, counts text, createdAt datetime)''')\n",
        "c.execute('''DELETE FROM pharmacies''')\n",
        "conn.commit()\n",
        "\n",
        "# 新增資料\n",
        "url = \"https://raw.githubusercontent.com/kiang/pharmacies/master/json/points.json\"\n",
        "response = requests.get(url)\n",
        "d = response.text\n",
        "data = json.loads(d)\n",
        "\n",
        "med_count = {}\n",
        "for d in data['features']:\n",
        "    conunty = d['properties']['county']\n",
        "    if conunty not in med_count:\n",
        "      med_count[conunty] = 0\n",
        "    if conunty in med_count:\n",
        "      med_count[conunty] += 1\n",
        "\n",
        "for city, counts in med_count.items():\n",
        "  t = datetime.datetime.now()\n",
        "  c.execute(f\"INSERT INTO pharmacies VALUES ('{city}', {counts}, '{t}')\")\n",
        "  conn.commit()\n",
        "\n",
        "# 查詢資料\n",
        "c.execute(\"SELECT * FROM pharmacies\")\n",
        "print(c.fetchall())\n",
        "\n",
        "conn.commit()\n",
        "conn.close()\n"
      ],
      "metadata": {
        "colab": {
          "base_uri": "https://localhost:8080/"
        },
        "id": "crGrtueQAhlJ",
        "outputId": "e9c740b5-1f84-43da-8b63-d5c84afb91b6"
      },
      "execution_count": 11,
      "outputs": [
        {
          "output_type": "stream",
          "name": "stdout",
          "text": [
            "[('臺北市', '339', '2023-04-08 13:44:56.244015'), ('', '49', '2023-04-08 13:44:56.253934'), ('高雄市', '422', '2023-04-08 13:44:56.263363'), ('臺中市', '420', '2023-04-08 13:44:56.271113'), ('臺南市', '271', '2023-04-08 13:44:56.279816'), ('基隆市', '57', '2023-04-08 13:44:56.288716'), ('新竹市', '39', '2023-04-08 13:44:56.296922'), ('嘉義市', '67', '2023-04-08 13:44:56.303799'), ('新北市', '501', '2023-04-08 13:44:56.311659'), ('桃園市', '264', '2023-04-08 13:44:56.320292'), ('新竹縣', '46', '2023-04-08 13:44:56.328693'), ('宜蘭縣', '76', '2023-04-08 13:44:56.337282'), ('苗栗縣', '56', '2023-04-08 13:44:56.345875'), ('彰化縣', '179', '2023-04-08 13:44:56.354760'), ('南投縣', '67', '2023-04-08 13:44:56.362704'), ('雲林縣', '129', '2023-04-08 13:44:56.370767'), ('嘉義縣', '84', '2023-04-08 13:44:56.378837'), ('屏東縣', '140', '2023-04-08 13:44:56.386637'), ('澎湖縣', '11', '2023-04-08 13:44:56.393907'), ('花蓮縣', '46', '2023-04-08 13:44:56.401748'), ('臺東縣', '23', '2023-04-08 13:44:56.410347'), ('金門縣', '6', '2023-04-08 13:44:56.418395'), ('連江縣', '1', '2023-04-08 13:44:56.426451')]\n"
          ]
        }
      ]
    },
    {
      "cell_type": "code",
      "source": [],
      "metadata": {
        "id": "j9emeckoE3Es"
      },
      "execution_count": null,
      "outputs": []
    }
  ]
}